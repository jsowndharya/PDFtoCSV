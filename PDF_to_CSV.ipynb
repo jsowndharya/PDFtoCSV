{
 "cells": [
  {
   "cell_type": "code",
   "execution_count": 12,
   "metadata": {},
   "outputs": [],
   "source": [
    "# Import Module  \n",
    "import tabula \n",
    "  \n",
    "# Read PDF File \n",
    "# this contain a list \n",
    "df = tabula.read_pdf(r'C:/Users/sownd/Desktop/Python/ast_sci_data_tables_sample.pdf', pages = 2)[1] \n",
    "  \n",
    "# Convert DataFrame into CSV File \n",
    "df.to_csv('C:/Users/sownd/Desktop/Python/table1.csv', index=False)\n"
   ]
  },
  {
   "cell_type": "code",
   "execution_count": null,
   "metadata": {},
   "outputs": [],
   "source": []
  },
  {
   "cell_type": "code",
   "execution_count": null,
   "metadata": {},
   "outputs": [],
   "source": []
  }
 ],
 "metadata": {
  "kernelspec": {
   "display_name": "Python 3",
   "language": "python",
   "name": "python3"
  },
  "language_info": {
   "codemirror_mode": {
    "name": "ipython",
    "version": 3
   },
   "file_extension": ".py",
   "mimetype": "text/x-python",
   "name": "python",
   "nbconvert_exporter": "python",
   "pygments_lexer": "ipython3",
   "version": "3.8.3"
  }
 },
 "nbformat": 4,
 "nbformat_minor": 4
}
